{
  "nbformat": 4,
  "nbformat_minor": 0,
  "metadata": {
    "colab": {
      "provenance": []
    },
    "kernelspec": {
      "name": "python3",
      "display_name": "Python 3"
    },
    "language_info": {
      "name": "python"
    }
  },
  "cells": [
    {
      "cell_type": "markdown",
      "source": [
        "#Python OOPS Assignment\n",
        "\n",
        "1. What is Object-Oriented Programming (OOP)?\n",
        "\n",
        "  Ans. OOP is a way of programming that organizes code into \"objects,\" which are structures that contain both data and methods (functions) that operate on that data. It helps make code more modular and reusable.\n",
        "\n",
        "2. What is a class in OOP?\n",
        "\n",
        "  Ans. A class in OOP is a blueprint for creating objects. It defines the attributes (data) and methods (functions) that the objects created from the class will have. Essentially, a class describes what an object will look like and how it will behave.\n",
        "\n",
        "3.\tWhat is an object in OOP?\n",
        "\n",
        "  Ans. An object in OOP is an instance of a class. It represents a specific entity that contains both data (attributes) and behaviors (methods) defined by the class. Essentially, an object is a concrete example of the blueprint provided by the class.\n",
        "\n",
        "4.\tWhat is the difference between abstraction and encapsulation?\n",
        "\n",
        "  Ans. The difference between abstraction and encapsulation is as follows:\n",
        "\n",
        "  - Abstraction: It focuses on \"what\" an object does rather than \"how\" it does it. Abstraction hides the complex implementation details and shows only the essential features of an object.\n",
        "\n",
        "  - Encapsulation: It focuses on *how* to implement the object's attributes and methods. Encapsulation involves bundling the data (attributes) and methods (functions) that operate on the data into a single unit or class, and restricting access to some of the object's components to protect the data.\n",
        "\n",
        "  the crux is, abstraction is about hiding complexity by showcasing necessary parts, while encapsulation is about protecting and bundling data and methods together.\n",
        "\n",
        "5.\tWhat are dunder methods in Python?\n",
        "\n",
        "  Ans. Dunder methods, also known as \"magic methods\" or \"special methods,\" are built-in methods in Python that have double underscores (__) before and after their names. They are used to define the behavior of objects for specific operations. such as __init__ / __str__ / __len__ etc.\n",
        "\n",
        "6.\tExplain the concept of inheritance in OOP.\n",
        "\n",
        "  Ans. Inheritance is a fundamental concept in OOP that allows a new class to inherit properties and behaviors (methods) from an existing class. The existing class is called the \"parent\" or \"base\" class, and the new class is called the \"child\" or \"derived\" class. Inheritance enables code reusability and establishes a natural hierarchy between classes.\n",
        "\n",
        "7.\tWhat is polymorphism in OOP?\n",
        "\n",
        "  Ans. As the name suggests Poly = many and morph = forms / states. Polymorphism refers to an object taking several forms depending on the method or data.\n",
        "  \n",
        "  Polymorphism in OOP is the ability of different objects to be treated as instances of the same class through a common interface. It allows methods to operate on objects of different classes in a consistent way.\n",
        "\n",
        "8.\tHow is encapsulation achieved in Python?\n",
        "\n",
        "  Ans. In Python, encapsulation is achieved through the use of classes, which bundle data (attributes) and methods (functions) together. We can control the access to these attributes and methods using access modifiers:\n",
        "\n",
        "  Public: Attributes and methods are accessible from outside the class. By default, all attributes and methods are public.\n",
        "\n",
        "  Protected: Attributes and methods are intended for internal use within the class and its subclasses. They are indicated by a single underscore (_).\n",
        "\n",
        "  Private: Attributes and methods are restricted to the class they are defined in. They are indicated by a double underscore (__).\n",
        "\n",
        "9.\tWhat is a constructor in Python?\n",
        "\n",
        "  Ans. A constructor in Python is a special method called __init__ that is automatically invoked when a new object of a class is created. The primary purpose of a constructor is to initialize the object's attributes with specific values.\n",
        "\n",
        "10.\tWhat are class and static methods in Python?\n",
        "\n",
        "  Ans. In Python, class methods and static methods are two types of methods that we can define in a class. They have different purposes and uses:\n",
        "\n",
        "  Class Methods:\n",
        "\n",
        "  - Defined using the @classmethod decorator.\n",
        "  - Take the class itself as the first parameter, conventionally named cls.\n",
        "  - Can access and modify class-level attributes.\n",
        "  - Commonly used for factory methods or methods that need to interact with   \n",
        "    class attributes.\n",
        "\n",
        "  Static Methods:\n",
        "\n",
        "  - Defined using the @staticmethod decorator.\n",
        "  - Do not take any special first parameter (neither self nor cls).\n",
        "  - Cannot access or modify instance or class-level attributes directly.\n",
        "  - Used for utility functions that perform some operation related to the class\n",
        "    but don't need to interact with its instances or class-level data.\n",
        "\n",
        "  Class methods are useful when you need to operate on the class as a whole, while static methods are useful for functions that logically belong to the class but don't need to modify or access its data.\n",
        "\n",
        "11.\tWhat is method overloading in Python?\n",
        "\n",
        "  Ans. Method overloading in Python refers to the ability to define multiple methods with the same name but with different parameters. However, unlike some other programming languages, Python does not support true method overloading directly. Instead, we can achieve similar functionality using default arguments or variable-length arguments.\n",
        "\n",
        "12.\tWhat is method overriding in OOP?\n",
        "\n",
        "  Ans. Method overriding in OOP occurs when a child class provides a specific implementation of a method that is already defined in its parent class. This allows the child class to customize or change the behavior of that method.\n",
        "\n",
        "13.\tWhat is a property decorator in Python?\n",
        "\n",
        "  Ans. A property decorator in Python, denoted by @property, is used to define a method as a property, allowing it to be accessed like an attribute.\n",
        "\n",
        "14.\tWhy is polymorphism important in OOP?\n",
        "\n",
        "  Ans. Polymorphism is important in OOP because it promotes flexibility, reusability, and maintainability of code. Here are some key reasons:\n",
        "\n",
        "    1. Flexibility: Polymorphism allows objects of different classes to be treated as objects of a common base class. This means we can write more generic and flexible code that can handle different types of objects through a common interface.\n",
        "\n",
        "    2. Code Reusability: By using polymorphism, we can reuse existing code to work with new objects without modifying the original code. This makes it easier to extend and maintain our applications.\n",
        "\n",
        "    3. Simplified Code: Polymorphism enables us to simplify our code by allowing the same method to work on different types of objects. This reduces the need for complex conditionals and type checks, making our code cleaner and easier to understand.\n",
        "\n",
        "    4. Interchangeable Objects: Polymorphism allows us to design systems where objects can be easily interchanged without affecting the overall functionality.\n",
        "\n",
        "    5. Enhanced Maintainability: With polymorphism, we can make changes to specific classes without affecting the entire codebase. This leads to better maintainability and easier bug fixes.\n",
        "\n",
        "  Overall, polymorphism is a powerful concept that helps us build robust, scalable, and adaptable systems.\n",
        "\n",
        "15.\tWhat is an abstract class in Python?\n",
        "\n",
        "  Ans. An abstract class in Python is a class that cannot be instantiated directly and is meant to be subclassed. It serves as a blueprint for other classes, defining methods that must be implemented by any non-abstract subclass. Abstract classes are useful for creating a common interface for a group of related classes.\n",
        "\n",
        "  We can create an abstract class using the abc (Abstract Base Classes) module and the ABC class, along with the @abstractmethod decorator to define abstract methods.\n",
        "\n",
        "16.\tWhat are the advantages of OOP?\n",
        "\n",
        "  Ans. Object-Oriented Programming (OOP) has several advantages that make it a popular programming paradigm:\n",
        "\n",
        "    1. Modularity: OOP allows us to break down a complex problem into smaller, more manageable pieces (classes and objects). This modularity makes code easier to understand, maintain, and debug.\n",
        "\n",
        "    2. Reusability: OOP promotes code reuse through inheritance and polymorphism. We can create new classes based on existing ones, reducing the need to write redundant code.\n",
        "\n",
        "    3. Scalability: OOP makes it easier to add new features and functionality to an application without affecting the existing code. This scalability is achieved through encapsulation and abstraction.\n",
        "\n",
        "    4. Encapsulation: By bundling data and methods together within a class and restricting access to certain components, OOP helps protect the integrity of the data and ensures that it is modified only in controlled ways.\n",
        "\n",
        "    5. Abstraction: OOP allows us to hide complex implementation details and expose only the essential features of an object. This abstraction simplifies code and makes it easier to work with.\n",
        "\n",
        "    6. Ease of Maintenance: OOP makes it easier to manage and maintain code by organizing it into well-defined classes and objects. This structure allows developers to quickly identify and fix issues or make changes.\n",
        "\n",
        "    7. Flexibility: OOP provides the flexibility to create highly customizable and adaptable systems. Through polymorphism, we can design systems that can work with different types of objects and easily integrate new ones.\n",
        "\n",
        "  Overall, OOP provides a robust framework for developing complex, scalable, and maintainable software systems.\n",
        "\n",
        "17.\tWhat is the difference between a class variable and an instance variable?\n",
        "\n",
        "  Ans. The difference between a class variable and an instance variable in OOP is primarily about their scope and how they are shared among instances of a class:\n",
        "\n",
        "  Class Variable:\n",
        "\n",
        "  - A class variable is shared among all instances of the class.\n",
        "  - It is defined within the class, outside any methods.\n",
        "  - All instances of the class can access and modify the class variable, and\n",
        "    changes made to it affect all instances.\n",
        "\n",
        "  Instance Variable:\n",
        "\n",
        "  - An instance variable is unique to each instance of the class.\n",
        "  - It is defined within a method, typically within the __init__ method.\n",
        "  - Each instance of the class has its own copy of the instance variable, and\n",
        "    changes to it do not affect other instances.\n",
        "  \n",
        "  In short, class variables are shared among all instances of a class, while instance variables are unique to each instance. This allows for different instances to have different states.\n",
        "\n",
        "18.\tWhat is multiple inheritance in Python?\n",
        "\n",
        "  Ans. Multiple inheritance in Python is a feature that allows a class to inherit from more than one base class. This enables the derived class to inherit attributes and methods from multiple parent classes, combining their features and behaviors.\n",
        "\n",
        "19.\tExplain the purpose of \"__str__' and '__repr__'' methods in Python.\n",
        "\n",
        "  Ans. In Python, __str__ and __repr__ are special methods that provide string representations of objects. They serve different purposes:\n",
        "\n",
        "  __str__ Method:\n",
        "\n",
        "  - Provides a user-friendly and readable string representation of an\n",
        "    object.\n",
        "  - Used by the print() function and str() function.\n",
        "  - easy to read and useful for end-users.\n",
        "\n",
        "  __repr__ Method:\n",
        "\n",
        "  - Purpose: Provides an unambiguous string representation of an object, mainly\n",
        "    for debugging and development.\n",
        "  - Used by the repr() function and the interactive interpreter.\n",
        "  - ideally return a string that could be used to recreate the object.\n",
        "\n",
        "  We use __str__ for a human-readable representation of an object and __repr__ for a developer-friendly, unambiguous representation. By implementing these methods in our classes, we can control how objects are represented and improve the readability and usability of our code.\n",
        "\n",
        "20.\tWhat is the significance of the 'super()' function in Python?\n",
        "\n",
        "  Ans. The super() function in Python is used to call a method from a parent class within a subclass. It is particularly useful in scenarios involving inheritance, as it allows us to access and initialize the properties and methods of a parent class without explicitly naming it. This is especially helpful when working with multiple inheritance or when the class hierarchy changes, as it ensures that the proper method resolution order (MRO) is followed.\n",
        "\n",
        "21.\tWhat is the significance of the __del__ method in Python?\n",
        "\n",
        "  Ans. The __del__ method in Python is a special method, also known as a destructor, that is called when an object is about to be destroyed. Its primary purpose is to perform any necessary cleanup, such as releasing resources or closing files, before the object is removed from memory.\n",
        "\n",
        "22.\tWhat is the difference between @staticmethod and @classmethod in Python?\n",
        "\n",
        "  Ans. The difference between @staticmethod and @classmethod is:\n",
        "\n",
        "      @staticmethod:\n",
        "\n",
        "    - Does not take any special first parameter (self or cls).\n",
        "    - Cannot access or modify class-level or instance-level attributes and\n",
        "      methods.\n",
        "    - Used for utility functions that logically belong to the class but do not  require access to class or instance data.\n",
        "\n",
        "    @classmethod:\n",
        "\n",
        "    - Takes the class itself as the first parameter, conventionally named cls.\n",
        "    - Can access and modify class-level attributes and methods.\n",
        "    - Often used for factory methods that create instances of the class or for\n",
        "      methods that need to interact with class-level data.\n",
        "\n",
        "  In short, In @staticmethod is used for utility functions that don't interact with the class or instance, while @classmethod is used for methods that need to access or modify class-level data.\n",
        "\n",
        "23.\tHow does polymorphism work in Python with inheritance?\n",
        "\n",
        "  Ans. Polymorphism in Python with inheritance allows objects of different classes to be treated as objects of a common base class. This means that we can call the same method on different objects, and each object will respond according to its own implementation of that method. Polymorphism is achieved through method overriding, where a subclass provides a specific implementation of a method already defined in its parent class.\n",
        "\n",
        "24.\tWhat is method chaining in Python OOP?\n",
        "\n",
        "  Ans. Method chaining in Python OOP is a technique where multiple methods are called on the same object in a single statement, one after the other. This is achieved by having each method return the object itself (usually self). Method chaining improves code readability and conciseness.\n",
        "\n",
        "25.\tWhat is the purpose of the __call__\tmethod in Python?\n",
        "\n",
        "  Ans. The __call__ method in Python is a special method that allows an instance of a class to be called as if it were a function. When we define the __call__ method in a class, we can use objects of that class like functions, passing arguments to them and executing code.\n"
      ],
      "metadata": {
        "id": "eUpa7DLXL6K_"
      }
    },
    {
      "cell_type": "markdown",
      "source": [
        "#Practical Questions"
      ],
      "metadata": {
        "id": "COZm3Iaxreax"
      }
    },
    {
      "cell_type": "markdown",
      "source": [
        "1.\tCreate a parent class Animal with a method speak() that prints a generic message. Create a child class Dog that overrides the speak() method to print \"Bark!\"."
      ],
      "metadata": {
        "id": "AwkOZlUFru7w"
      }
    },
    {
      "cell_type": "code",
      "source": [
        "class Animal:\n",
        "    def speak(self):\n",
        "        print(\"This is a generic animal sound\")\n",
        "\n",
        "class Dog(Animal):\n",
        "    def speak(self):\n",
        "        print(\"Bark!\")\n"
      ],
      "metadata": {
        "id": "DBQ22NXUrwlL"
      },
      "execution_count": 2,
      "outputs": []
    },
    {
      "cell_type": "code",
      "source": [
        "generic_animal = Animal()\n",
        "dog = Dog()"
      ],
      "metadata": {
        "id": "Qd1xz3ILsKgd"
      },
      "execution_count": 7,
      "outputs": []
    },
    {
      "cell_type": "code",
      "source": [
        "generic_animal.speak()\n",
        "dog.speak()"
      ],
      "metadata": {
        "colab": {
          "base_uri": "https://localhost:8080/"
        },
        "id": "x6Ra_O2KsTrL",
        "outputId": "79c24150-8d0b-4b5d-97c1-305345a19485"
      },
      "execution_count": 6,
      "outputs": [
        {
          "output_type": "stream",
          "name": "stdout",
          "text": [
            "This is a generic animal sound\n",
            "Bark!\n"
          ]
        }
      ]
    },
    {
      "cell_type": "markdown",
      "source": [
        "2.\tWrite a program to create an abstract class Shape with a method area(). Derive classes Circle and Rectangle from it and implement the area() method in both."
      ],
      "metadata": {
        "id": "ZiskHqVcsYo8"
      }
    },
    {
      "cell_type": "code",
      "source": [
        "from abc import ABC, abstractmethod\n",
        "import math\n",
        "\n",
        "class Shape(ABC):\n",
        "    @abstractmethod\n",
        "    def area(self):\n",
        "        pass\n",
        "\n",
        "class Circle(Shape):\n",
        "    def __init__(self, radius):\n",
        "        self.radius = radius\n",
        "\n",
        "    def area(self):\n",
        "        return math.pi * (self.radius ** 2)\n",
        "\n",
        "class Rectangle(Shape):\n",
        "    def __init__(self, width, height):\n",
        "        self.width = width\n",
        "        self.height = height\n",
        "\n",
        "    def area(self):\n",
        "        return self.width * self.height\n"
      ],
      "metadata": {
        "id": "0EcWdK_1sckm"
      },
      "execution_count": 10,
      "outputs": []
    },
    {
      "cell_type": "code",
      "source": [
        "circle = Circle(5)\n",
        "rectangle = Rectangle(4, 6)\n",
        "\n",
        "print(f\"Area of the circle: {circle.area():.2f}\")\n",
        "print(f\"Area of the rectangle: {rectangle.area()}\")"
      ],
      "metadata": {
        "colab": {
          "base_uri": "https://localhost:8080/"
        },
        "id": "ifxin-Ajtgg5",
        "outputId": "7c0aca0c-a25b-4967-d429-f8d7d88f0d78"
      },
      "execution_count": 11,
      "outputs": [
        {
          "output_type": "stream",
          "name": "stdout",
          "text": [
            "Area of the circle: 78.54\n",
            "Area of the rectangle: 24\n"
          ]
        }
      ]
    },
    {
      "cell_type": "markdown",
      "source": [
        "3.\tImplement a multi-level inheritance scenario where a class Vehicle has an attribute type. Derive a class Car and further derive a class ElectricCar that adds a battery attribute."
      ],
      "metadata": {
        "id": "WqZH4IMQtBI1"
      }
    },
    {
      "cell_type": "code",
      "source": [
        "class Vehicle:\n",
        "    def __init__(self, vehicle_type):\n",
        "        self.vehicle_type = vehicle_type\n",
        "\n",
        "class Car(Vehicle):\n",
        "    def __init__(self, vehicle_type, brand, model):\n",
        "        super().__init__(vehicle_type)\n",
        "        self.brand = brand\n",
        "        self.model = model\n",
        "\n",
        "class ElectricCar(Car):\n",
        "    def __init__(self, vehicle_type, brand, model, battery_capacity):\n",
        "        super().__init__(vehicle_type, brand, model)\n",
        "        self.battery_capacity = battery_capacity\n"
      ],
      "metadata": {
        "id": "Bt9UlyfKtEF4"
      },
      "execution_count": 8,
      "outputs": []
    },
    {
      "cell_type": "code",
      "source": [
        "electric_car = ElectricCar(\"Electric\", \"Tesla\", \"Model S\", \"100 kWh\")\n",
        "\n",
        "print(f\"Vehicle Type: {electric_car.vehicle_type}\")\n",
        "print(f\"Brand: {electric_car.brand}\")\n",
        "print(f\"Model: {electric_car.model}\")\n",
        "print(f\"Battery Capacity: {electric_car.battery_capacity}\")"
      ],
      "metadata": {
        "colab": {
          "base_uri": "https://localhost:8080/"
        },
        "id": "XAM2cvh0tXEh",
        "outputId": "b4b4b459-47c4-464c-c9d3-e4fd1aad5e9b"
      },
      "execution_count": 9,
      "outputs": [
        {
          "output_type": "stream",
          "name": "stdout",
          "text": [
            "Vehicle Type: Electric\n",
            "Brand: Tesla\n",
            "Model: Model S\n",
            "Battery Capacity: 100 kWh\n"
          ]
        }
      ]
    },
    {
      "cell_type": "markdown",
      "source": [
        "4.\tImplement a multi-level inheritance scenario where a class Vehicle has an attribute type. Derive a class Car and further derive a class ElectricCar that adds a battery attribute."
      ],
      "metadata": {
        "id": "qWYMKUIBtlu-"
      }
    },
    {
      "cell_type": "code",
      "source": [
        "#Same as above"
      ],
      "metadata": {
        "id": "9KINLkk4ts1W"
      },
      "execution_count": null,
      "outputs": []
    },
    {
      "cell_type": "markdown",
      "source": [
        "5.\tWrite a program to demonstrate encapsulation by creating a class BankAccount with private attributes balance and methods to deposit, withdraw, and check balance."
      ],
      "metadata": {
        "id": "nIsJD4yGt8CP"
      }
    },
    {
      "cell_type": "code",
      "source": [
        "class BankAccount:\n",
        "    def __init__(self, initial_balance=0):\n",
        "        self.__balance = initial_balance  # Private attribute\n",
        "\n",
        "    def deposit(self, amount):\n",
        "        if amount > 0:\n",
        "            self.__balance += amount\n",
        "            print(f\"Deposited: {amount}\")\n",
        "        else:\n",
        "            print(\"Invalid deposit amount\")\n",
        "\n",
        "    def withdraw(self, amount):\n",
        "        if 0 < amount <= self.__balance:\n",
        "            self.__balance -= amount\n",
        "            print(f\"Withdrawn: {amount}\")\n",
        "        else:\n",
        "            print(\"Invalid withdrawal amount or insufficient funds\")\n",
        "\n",
        "    def check_balance(self):\n",
        "        return self.__balance\n"
      ],
      "metadata": {
        "id": "eJEtLbqluCg6"
      },
      "execution_count": 12,
      "outputs": []
    },
    {
      "cell_type": "code",
      "source": [
        "account = BankAccount()\n",
        "\n",
        "account.deposit(1000)\n",
        "account.withdraw(500)\n",
        "print(f\"Balance: {account.check_balance()}\")"
      ],
      "metadata": {
        "colab": {
          "base_uri": "https://localhost:8080/"
        },
        "id": "W5-37xI_uW1S",
        "outputId": "996a1a42-a939-44f5-f253-3b78dfe9a31b"
      },
      "execution_count": 13,
      "outputs": [
        {
          "output_type": "stream",
          "name": "stdout",
          "text": [
            "Deposited: 1000\n",
            "Withdrawn: 500\n",
            "Balance: 500\n"
          ]
        }
      ]
    },
    {
      "cell_type": "markdown",
      "source": [
        "6.\tDemonstrate runtime polymorphism using a method play() in a base class Instrument. Derive classes Guitar and Piano that implement their own version of play()."
      ],
      "metadata": {
        "id": "tSuQd6uvukif"
      }
    },
    {
      "cell_type": "code",
      "source": [
        "class Instrument:\n",
        "    def play(self):\n",
        "        raise NotImplementedError(\"Subclass must implement abstract method\")\n",
        "\n",
        "class Guitar(Instrument):\n",
        "    def play(self):\n",
        "        return \"Playing the guitar: Strum, strum, strum!\"\n",
        "\n",
        "class Piano(Instrument):\n",
        "    def play(self):\n",
        "        return \"Playing the piano: Plink, plink, plink!\"\n",
        "\n",
        "def make_music(instrument):\n",
        "    return instrument.play()\n"
      ],
      "metadata": {
        "id": "peu7xIUYu2ng"
      },
      "execution_count": 14,
      "outputs": []
    },
    {
      "cell_type": "code",
      "source": [
        "guitar = Guitar()\n",
        "piano = Piano()\n",
        "\n",
        "print(make_music(guitar))\n",
        "print(make_music(piano))"
      ],
      "metadata": {
        "colab": {
          "base_uri": "https://localhost:8080/"
        },
        "id": "EQdIJWW4vMfl",
        "outputId": "b27770cf-8bb9-4574-ec17-b3c57a4dc692"
      },
      "execution_count": 15,
      "outputs": [
        {
          "output_type": "stream",
          "name": "stdout",
          "text": [
            "Playing the guitar: Strum, strum, strum!\n",
            "Playing the piano: Plink, plink, plink!\n"
          ]
        }
      ]
    },
    {
      "cell_type": "markdown",
      "source": [
        "7.\tCreate a class MathOperations with a class method add_numbers() to add two numbers and a static method subtract_numbers() to subtract two numbers."
      ],
      "metadata": {
        "id": "p6WthVbIvS5R"
      }
    },
    {
      "cell_type": "code",
      "source": [
        "class MathOperations:\n",
        "    @classmethod\n",
        "    def add_numbers(cls, a, b):\n",
        "        return a + b\n",
        "\n",
        "    @staticmethod\n",
        "    def subtract_numbers(a, b):\n",
        "        return a - b\n"
      ],
      "metadata": {
        "id": "l-UZmBlKvWPD"
      },
      "execution_count": 16,
      "outputs": []
    },
    {
      "cell_type": "code",
      "source": [
        "result_addition = MathOperations.add_numbers(5, 3)\n",
        "print(f\"Addition result: {result_addition}\")\n"
      ],
      "metadata": {
        "colab": {
          "base_uri": "https://localhost:8080/"
        },
        "id": "BFzGSVscvlni",
        "outputId": "c35f3d75-f6bc-40bb-a2e0-d7a32072b652"
      },
      "execution_count": 17,
      "outputs": [
        {
          "output_type": "stream",
          "name": "stdout",
          "text": [
            "Addition result: 8\n"
          ]
        }
      ]
    },
    {
      "cell_type": "code",
      "source": [
        "result_subtraction = MathOperations.subtract_numbers(10, 4)\n",
        "print(f\"Subtraction result: {result_subtraction}\")"
      ],
      "metadata": {
        "colab": {
          "base_uri": "https://localhost:8080/"
        },
        "id": "VMC_F9Utvqhs",
        "outputId": "4300ad55-69a2-4f35-999a-79b529b9746b"
      },
      "execution_count": 18,
      "outputs": [
        {
          "output_type": "stream",
          "name": "stdout",
          "text": [
            "Subtraction result: 6\n"
          ]
        }
      ]
    },
    {
      "cell_type": "markdown",
      "source": [
        "8.\tImplement a class Person with a class method to count the total number of persons created."
      ],
      "metadata": {
        "id": "2IQHwpjevtg2"
      }
    },
    {
      "cell_type": "code",
      "source": [
        "class Person:\n",
        "    total_persons = 0\n",
        "\n",
        "    def __init__(self, name):\n",
        "        self.name = name\n",
        "        Person.total_persons += 1\n",
        "\n",
        "    @classmethod\n",
        "    def get_total_persons(cls):\n",
        "        return cls.total_persons\n"
      ],
      "metadata": {
        "id": "dgRtozIsvxQZ"
      },
      "execution_count": 55,
      "outputs": []
    },
    {
      "cell_type": "code",
      "source": [
        "person1 = Person(\"Anurag\")\n",
        "person2 = Person(\"Ajay\")\n",
        "person3 = Person(\"Arun\")\n",
        "\n",
        "print(f\"Total persons created: {Person.get_total_persons()}\")"
      ],
      "metadata": {
        "colab": {
          "base_uri": "https://localhost:8080/"
        },
        "id": "m4iP80nVv8xy",
        "outputId": "b1c79cf1-ffcd-49a6-8024-878ea1ee6c4c"
      },
      "execution_count": 20,
      "outputs": [
        {
          "output_type": "stream",
          "name": "stdout",
          "text": [
            "Total persons created: 3\n"
          ]
        }
      ]
    },
    {
      "cell_type": "markdown",
      "source": [
        "9.\tWrite a class Fraction with attributes numerator and denominator. Override the str method to display the fraction as \"numerator/denominator\"."
      ],
      "metadata": {
        "id": "JAkLd4T9wGZT"
      }
    },
    {
      "cell_type": "code",
      "source": [
        "class Fraction:\n",
        "    def __init__(self, numerator, denominator):\n",
        "        self.numerator = numerator\n",
        "        self.denominator = denominator\n",
        "\n",
        "    def __str__(self):\n",
        "        return f\"{self.numerator}/{self.denominator}\"\n"
      ],
      "metadata": {
        "id": "aG81OqaIwK69"
      },
      "execution_count": 22,
      "outputs": []
    },
    {
      "cell_type": "code",
      "source": [
        "fraction = Fraction(3, 4)\n",
        "\n",
        "print(fraction)"
      ],
      "metadata": {
        "colab": {
          "base_uri": "https://localhost:8080/"
        },
        "id": "McGAR1iMwWr9",
        "outputId": "8ff486f8-5d46-431c-ce56-5283fb565ece"
      },
      "execution_count": 23,
      "outputs": [
        {
          "output_type": "stream",
          "name": "stdout",
          "text": [
            "3/4\n"
          ]
        }
      ]
    },
    {
      "cell_type": "markdown",
      "source": [
        "10.\tDemonstrate operator overloading by creating a class Vector and overriding the add method to add two vectors."
      ],
      "metadata": {
        "id": "piFkNq6ewauA"
      }
    },
    {
      "cell_type": "code",
      "source": [
        "class Vector:\n",
        "    def __init__(self, x, y):\n",
        "        self.x = x\n",
        "        self.y = y\n",
        "\n",
        "    def __add__(self, other):\n",
        "        return Vector(self.x + other.x, self.y + other.y)\n",
        "\n",
        "    def __str__(self):\n",
        "        return f\"Vector({self.x}, {self.y})\"\n"
      ],
      "metadata": {
        "id": "MU7qeMG0wgZN"
      },
      "execution_count": 24,
      "outputs": []
    },
    {
      "cell_type": "code",
      "source": [
        "v1 = Vector(2, 3)\n",
        "v2 = Vector(4, 5)\n",
        "\n",
        "v3 = v1 + v2\n",
        "\n",
        "print(v3)"
      ],
      "metadata": {
        "colab": {
          "base_uri": "https://localhost:8080/"
        },
        "id": "yiTiWQdSwsYw",
        "outputId": "e394076e-5a86-4096-ed12-06fae8e31eb8"
      },
      "execution_count": 25,
      "outputs": [
        {
          "output_type": "stream",
          "name": "stdout",
          "text": [
            "Vector(6, 8)\n"
          ]
        }
      ]
    },
    {
      "cell_type": "markdown",
      "source": [
        "11.\tCreate a class Person with attributes name and age. Add a method greet() that prints \"Hello, my name is\n",
        "{name} and I am {age} years old.\"\n"
      ],
      "metadata": {
        "id": "oQRldqn1w3TF"
      }
    },
    {
      "cell_type": "code",
      "source": [
        "class Person:\n",
        "    def __init__(self, name, age):\n",
        "        self.name = name\n",
        "        self.age = age\n",
        "\n",
        "    def greet(self):\n",
        "        print(f\"Hello, my name is {self.name} and I am {self.age} years old.\")\n"
      ],
      "metadata": {
        "id": "Kf6Wz06Lw6C9"
      },
      "execution_count": 27,
      "outputs": []
    },
    {
      "cell_type": "code",
      "source": [
        "person = Person(\"Anurag\", 41)\n",
        "\n",
        "person.greet()"
      ],
      "metadata": {
        "colab": {
          "base_uri": "https://localhost:8080/"
        },
        "id": "LKHc4k3jxE0q",
        "outputId": "5316e043-cd57-4341-8f26-2986179d1b8f"
      },
      "execution_count": 28,
      "outputs": [
        {
          "output_type": "stream",
          "name": "stdout",
          "text": [
            "Hello, my name is Anurag and I am 41 years old.\n"
          ]
        }
      ]
    },
    {
      "cell_type": "markdown",
      "source": [
        "12.\tImplement a class Student with attributes name and grades. Create a method average_grade() to compute the average of the grades."
      ],
      "metadata": {
        "id": "FpgJPQcsxXcR"
      }
    },
    {
      "cell_type": "code",
      "source": [
        "class Student:\n",
        "    def __init__(self, name, grades):\n",
        "        self.name = name\n",
        "        self.grades = grades\n",
        "\n",
        "    def average_grade(self):\n",
        "        if self.grades:\n",
        "            return sum(self.grades) / len(self.grades)\n",
        "        return 0"
      ],
      "metadata": {
        "id": "hJb8KMgyxicu"
      },
      "execution_count": 29,
      "outputs": []
    },
    {
      "cell_type": "code",
      "source": [
        "student = Student(\"Anurag\", [85, 92, 78, 90, 88])\n",
        "\n",
        "average = student.average_grade()\n",
        "print(f\"Average grade for {student.name}: {average:.2f}\")"
      ],
      "metadata": {
        "colab": {
          "base_uri": "https://localhost:8080/"
        },
        "id": "HYLreUmlxsW_",
        "outputId": "67576300-4ae7-431b-de14-90d0d2e8235a"
      },
      "execution_count": 32,
      "outputs": [
        {
          "output_type": "stream",
          "name": "stdout",
          "text": [
            "Average grade for Anurag: 86.60\n"
          ]
        }
      ]
    },
    {
      "cell_type": "markdown",
      "source": [
        "13.\tCreate a class Rectangle with methods set_dimensions() to set the dimensions and area() to calculate the area."
      ],
      "metadata": {
        "id": "4R8wjHkCx4Nu"
      }
    },
    {
      "cell_type": "code",
      "source": [
        "class Rectangle:\n",
        "    def __init__(self):\n",
        "        self.width = 0\n",
        "        self.height = 0\n",
        "\n",
        "    def set_dimensions(self, width, height):\n",
        "        self.width = width\n",
        "        self.height = height\n",
        "\n",
        "    def area(self):\n",
        "        return self.width * self.height\n"
      ],
      "metadata": {
        "id": "BvGurlpGx7k3"
      },
      "execution_count": 33,
      "outputs": []
    },
    {
      "cell_type": "code",
      "source": [
        "rectangle = Rectangle()\n",
        "\n",
        "rectangle.set_dimensions(5, 10)\n",
        "\n",
        "print(f\"Area of the rectangle: {rectangle.area()}\")"
      ],
      "metadata": {
        "colab": {
          "base_uri": "https://localhost:8080/"
        },
        "id": "Cvb6W4B-yC9h",
        "outputId": "9b168b9e-92d2-446c-8fca-644d8053d445"
      },
      "execution_count": 34,
      "outputs": [
        {
          "output_type": "stream",
          "name": "stdout",
          "text": [
            "Area of the rectangle: 50\n"
          ]
        }
      ]
    },
    {
      "cell_type": "markdown",
      "source": [
        "14.\tCreate a class Employee with a method calculate_salary() that computes the salary based on hours worked and hourly rate. Create a derived class Manager that adds a bonus to the salary."
      ],
      "metadata": {
        "id": "mwmTeC4hyJTa"
      }
    },
    {
      "cell_type": "code",
      "source": [
        "class Employee:\n",
        "    def __init__(self, name, hours_worked, hourly_rate):\n",
        "        self.name = name\n",
        "        self.hours_worked = hours_worked\n",
        "        self.hourly_rate = hourly_rate\n",
        "\n",
        "    def calculate_salary(self):\n",
        "        return self.hours_worked * self.hourly_rate\n",
        "\n",
        "class Manager(Employee):\n",
        "    def __init__(self, name, hours_worked, hourly_rate, bonus):\n",
        "        super().__init__(name, hours_worked, hourly_rate)\n",
        "        self.bonus = bonus\n",
        "\n",
        "    def calculate_salary(self):\n",
        "        base_salary = super().calculate_salary()\n",
        "        return base_salary + self.bonus\n"
      ],
      "metadata": {
        "id": "jUaTutjNySiR"
      },
      "execution_count": 35,
      "outputs": []
    },
    {
      "cell_type": "code",
      "source": [
        "employee = Employee(\"Hari\", 160, 500)\n",
        "manager = Manager(\"Prakash\", 160, 600, 10000)\n",
        "\n",
        "print(f\"{employee.name}'s salary: ₹{employee.calculate_salary()}\")\n",
        "print(f\"{manager.name}'s salary: ₹{manager.calculate_salary()}\")"
      ],
      "metadata": {
        "colab": {
          "base_uri": "https://localhost:8080/"
        },
        "id": "B0yOzp09yfd2",
        "outputId": "0c594bbc-90bf-4a8c-eb3a-6873688b37b9"
      },
      "execution_count": 40,
      "outputs": [
        {
          "output_type": "stream",
          "name": "stdout",
          "text": [
            "Hari's salary: ₹80000\n",
            "Prakash's salary: ₹106000\n"
          ]
        }
      ]
    },
    {
      "cell_type": "markdown",
      "source": [
        "15.\tCreate a class Product with attributes name, price, and quantity. Implement a method total_price() that calculates the total price of the product."
      ],
      "metadata": {
        "id": "XMBcCHLhzXKd"
      }
    },
    {
      "cell_type": "code",
      "source": [
        "class Product:\n",
        "    def __init__(self, name, price, quantity):\n",
        "        self.name = name\n",
        "        self.price = price\n",
        "        self.quantity = quantity\n",
        "\n",
        "    def total_price(self):\n",
        "        return self.price * self.quantity"
      ],
      "metadata": {
        "id": "vZXC51Vkzc3N"
      },
      "execution_count": 41,
      "outputs": []
    },
    {
      "cell_type": "code",
      "source": [
        "product = Product(\"Laptop\", 50000, 2)\n",
        "\n",
        "print(f\"Total price for {product.name}: ₹{product.total_price()}\")"
      ],
      "metadata": {
        "colab": {
          "base_uri": "https://localhost:8080/"
        },
        "id": "_m7X-4Oyzsci",
        "outputId": "810c7245-843a-472f-e7a4-4af173b2a95a"
      },
      "execution_count": 42,
      "outputs": [
        {
          "output_type": "stream",
          "name": "stdout",
          "text": [
            "Total price for Laptop: ₹100000\n"
          ]
        }
      ]
    },
    {
      "cell_type": "markdown",
      "source": [
        "16.\tCreate a class Animal with an abstract method sound(). Create two derived classes Cow and Sheep that implement the sound() method."
      ],
      "metadata": {
        "id": "UuPPGt1hzxdA"
      }
    },
    {
      "cell_type": "code",
      "source": [
        "from abc import ABC, abstractmethod\n",
        "\n",
        "class Animal(ABC):\n",
        "    @abstractmethod\n",
        "    def sound(self):\n",
        "        pass\n",
        "\n",
        "class Cow(Animal):\n",
        "    def sound(self):\n",
        "        return \"Moo\"\n",
        "\n",
        "class Sheep(Animal):\n",
        "    def sound(self):\n",
        "        return \"Baa\""
      ],
      "metadata": {
        "id": "minvSEE_z030"
      },
      "execution_count": 43,
      "outputs": []
    },
    {
      "cell_type": "code",
      "source": [
        "cow = Cow()\n",
        "sheep = Sheep()\n",
        "\n",
        "print(cow.sound())"
      ],
      "metadata": {
        "colab": {
          "base_uri": "https://localhost:8080/"
        },
        "id": "9ha5_tj50CWR",
        "outputId": "f2ef89ac-7cf4-4e31-bfc3-f4c4c1a0a5cf"
      },
      "execution_count": 45,
      "outputs": [
        {
          "output_type": "stream",
          "name": "stdout",
          "text": [
            "Moo\n"
          ]
        }
      ]
    },
    {
      "cell_type": "code",
      "source": [
        "print(sheep.sound())"
      ],
      "metadata": {
        "colab": {
          "base_uri": "https://localhost:8080/"
        },
        "id": "ftSZMpFT0KB9",
        "outputId": "1d6b8989-7f55-42a6-ddf5-edbcee18a5c5"
      },
      "execution_count": 46,
      "outputs": [
        {
          "output_type": "stream",
          "name": "stdout",
          "text": [
            "Baa\n"
          ]
        }
      ]
    },
    {
      "cell_type": "markdown",
      "source": [
        "17.\tCreate a class Book with attributes title, author, and year _published. Add a method get_book_info() that returns a formatted string with the book's details."
      ],
      "metadata": {
        "id": "K9nkfoaT0Ors"
      }
    },
    {
      "cell_type": "code",
      "source": [
        "class Book:\n",
        "    def __init__(self, title, author, year_published):\n",
        "        self.title = title\n",
        "        self.author = author\n",
        "        self.year_published = year_published\n",
        "\n",
        "    def get_book_info(self):\n",
        "        return f\"'{self.title}' by {self.author}, published in {self.year_published}\""
      ],
      "metadata": {
        "id": "IsLylbYk0TVW"
      },
      "execution_count": 47,
      "outputs": []
    },
    {
      "cell_type": "code",
      "source": [
        "book = Book(\"KJB\", \"Martin Luther\", 1611)\n",
        "\n",
        "print(book.get_book_info())"
      ],
      "metadata": {
        "colab": {
          "base_uri": "https://localhost:8080/"
        },
        "id": "blbE9xEE0myC",
        "outputId": "957ba038-2cc2-40ed-9886-4a7061f1ab27"
      },
      "execution_count": 48,
      "outputs": [
        {
          "output_type": "stream",
          "name": "stdout",
          "text": [
            "'KJB' by Martin Luther, published in 1611\n"
          ]
        }
      ]
    },
    {
      "cell_type": "markdown",
      "source": [
        "18.\tCreate a class House with attributes address and price. Create a derived class Mansion that adds an attribute number of rooms."
      ],
      "metadata": {
        "id": "Syi5plt51DNZ"
      }
    },
    {
      "cell_type": "code",
      "source": [
        "class House:\n",
        "    def __init__(self, address, price):\n",
        "        self.address = address\n",
        "        self.price = price\n",
        "\n",
        "class Mansion(House):\n",
        "    def __init__(self, address, price, number_of_rooms):\n",
        "        super().__init__(address, price)\n",
        "        self.number_of_rooms = number_of_rooms"
      ],
      "metadata": {
        "id": "b2DXcaXM1JO4"
      },
      "execution_count": 50,
      "outputs": []
    },
    {
      "cell_type": "code",
      "source": [
        "mansion = Mansion(\"7 Pushpanjli Farms\", 50000000, 15)\n",
        "\n",
        "print(f\"Address: {mansion.address}\")\n",
        "print(f\"Price: ₹{mansion.price}\")\n",
        "print(f\"Number of rooms: {mansion.number_of_rooms}\")"
      ],
      "metadata": {
        "colab": {
          "base_uri": "https://localhost:8080/"
        },
        "id": "9nDOihF-1aOx",
        "outputId": "1332ffe8-4377-43f5-b9d4-38a6044e5cb1"
      },
      "execution_count": 54,
      "outputs": [
        {
          "output_type": "stream",
          "name": "stdout",
          "text": [
            "Address: 7 Pushpanjli Farms\n",
            "Price: ₹50000000\n",
            "Number of rooms: 15\n"
          ]
        }
      ]
    }
  ]
}